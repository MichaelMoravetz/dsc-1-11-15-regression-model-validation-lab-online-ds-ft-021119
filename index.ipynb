{
 "cells": [
  {
   "cell_type": "markdown",
   "metadata": {},
   "source": [
    "# Regression Model Validation - Lab\n",
    "\n",
    "## Introduction\n",
    "\n",
    "In this lab, you'll be able to validate your model using train-test-split.\n",
    "\n",
    "\n",
    "## Objectives\n",
    "\n",
    "You will be able to:\n",
    "\n",
    "- Calculate the mean squared error (MSE) as a measure of predictive performance\n",
    "- Validate the model using the test data\n"
   ]
  },
  {
   "cell_type": "markdown",
   "metadata": {},
   "source": [
    "## Let's use our Boston Housing Data again!\n",
    "\n",
    "This time, let's only include the variables that were previously selected using recursive feature elimination. We included the code to preprocess below."
   ]
  },
  {
   "cell_type": "code",
   "execution_count": 21,
   "metadata": {},
   "outputs": [],
   "source": [
    "import pandas as pd\n",
    "import numpy as np\n",
    "import matplotlib.pyplot as plt\n",
    "%matplotlib inline\n",
    "from sklearn.datasets import load_boston\n",
    "\n",
    "boston = load_boston()\n",
    "\n",
    "boston_features = pd.DataFrame(boston.data, columns = boston.feature_names)\n",
    "b = boston_features[\"B\"]\n",
    "logdis = np.log(boston_features[\"DIS\"])\n",
    "loglstat = np.log(boston_features[\"LSTAT\"])\n",
    "\n",
    "# minmax scaling\n",
    "boston_features[\"B\"] = (b-min(b))/(max(b)-min(b))\n",
    "boston_features[\"DIS\"] = (logdis-min(logdis))/(max(logdis)-min(logdis))\n",
    "\n",
    "#standardization\n",
    "boston_features[\"LSTAT\"] = (loglstat-np.mean(loglstat))/np.sqrt(np.var(loglstat))"
   ]
  },
  {
   "cell_type": "code",
   "execution_count": 22,
   "metadata": {},
   "outputs": [],
   "source": [
    "X = boston_features[['CHAS', 'RM', 'DIS', 'B', 'LSTAT']]\n",
    "y = pd.DataFrame(boston.target, columns = ['PRICE'])"
   ]
  },
  {
   "cell_type": "markdown",
   "metadata": {},
   "source": [
    "## Perform a train-test-split"
   ]
  },
  {
   "cell_type": "code",
   "execution_count": 31,
   "metadata": {},
   "outputs": [],
   "source": [
    "from sklearn.model_selection import train_test_split\n",
    "X_train, X_test, y_train, y_test = train_test_split(X, y)"
   ]
  },
  {
   "cell_type": "code",
   "execution_count": 32,
   "metadata": {},
   "outputs": [
    {
     "name": "stdout",
     "output_type": "stream",
     "text": [
      "379 127 379 127\n"
     ]
    }
   ],
   "source": [
    "print(len(X_train), len(X_test), len(y_train), len(y_test))"
   ]
  },
  {
   "cell_type": "markdown",
   "metadata": {},
   "source": [
    "## Apply your model to the train set"
   ]
  },
  {
   "cell_type": "markdown",
   "metadata": {},
   "source": [
    "#### Importing and initializing the model class"
   ]
  },
  {
   "cell_type": "code",
   "execution_count": 33,
   "metadata": {},
   "outputs": [],
   "source": [
    "from sklearn.linear_model import LinearRegression\n",
    "linreg = LinearRegression()"
   ]
  },
  {
   "cell_type": "markdown",
   "metadata": {},
   "source": [
    "#### Fitting the model to the train data"
   ]
  },
  {
   "cell_type": "code",
   "execution_count": 34,
   "metadata": {},
   "outputs": [
    {
     "data": {
      "text/plain": [
       "LinearRegression(copy_X=True, fit_intercept=True, n_jobs=None,\n",
       "         normalize=False)"
      ]
     },
     "execution_count": 34,
     "metadata": {},
     "output_type": "execute_result"
    }
   ],
   "source": [
    "linreg.fit(X_train, y_train)"
   ]
  },
  {
   "cell_type": "markdown",
   "metadata": {},
   "source": [
    "#### Calculating predictions on the train set, and on the test set"
   ]
  },
  {
   "cell_type": "code",
   "execution_count": 35,
   "metadata": {},
   "outputs": [],
   "source": [
    "y_hat_train = linreg.predict(X_train)\n",
    "y_hat_test = linreg.predict(X_test)"
   ]
  },
  {
   "cell_type": "markdown",
   "metadata": {},
   "source": [
    "#### Calculating your residuals"
   ]
  },
  {
   "cell_type": "code",
   "execution_count": 36,
   "metadata": {},
   "outputs": [],
   "source": [
    "train_residuals = y_hat_train - y_train\n",
    "test_residuals = y_hat_test - y_test"
   ]
  },
  {
   "cell_type": "markdown",
   "metadata": {},
   "source": [
    "#### Calculating the Mean Squared Error\n",
    "A good way to compare overall performance is to compare the mean squarred error for the predicted values on the train and test sets."
   ]
  },
  {
   "cell_type": "code",
   "execution_count": 37,
   "metadata": {},
   "outputs": [],
   "source": [
    "from sklearn.metrics import mean_squared_error\n"
   ]
  },
  {
   "cell_type": "code",
   "execution_count": 38,
   "metadata": {},
   "outputs": [
    {
     "name": "stdout",
     "output_type": "stream",
     "text": [
      "Train Mean Squarred Error: 21.620125789191977\n",
      "Test Mean Squarred Error: 22.309070209086986\n"
     ]
    }
   ],
   "source": [
    "train_mse = mean_squared_error(y_train, y_hat_train)\n",
    "test_mse = mean_squared_error(y_test, y_hat_test)\n",
    "print('Train Mean Squarred Error:', train_mse)\n",
    "print('Test Mean Squarred Error:', test_mse)"
   ]
  },
  {
   "cell_type": "markdown",
   "metadata": {},
   "source": [
    "If your test error is substantially worse then our train error, this is a sign that our model doesn't generalize well to future cases."
   ]
  },
  {
   "cell_type": "markdown",
   "metadata": {},
   "source": [
    "One simple way to demonstrate overfitting and underfitting is to alter the size of our train test split. By default, scikit learn's built in method allocates 25% of the data to the test set and 75% to the training set. Fitting a model on only 10% of the data is apt to lead to underfitting, while training a model on 99% of the data is apt to lead to overfitting."
   ]
  },
  {
   "cell_type": "markdown",
   "metadata": {},
   "source": [
    "# Evaluating the effect of train-test split size\n",
    "\n",
    "Iterate over a range of train-test split sizes from .5 to .95. For each of these, generate a new train/test split sample. Fit a model to the training sample and calculate both the training error and the test error (mse) for each of these splits. Plot these two curves (train error vs. training size and test error vs. training size) on a graph."
   ]
  },
  {
   "cell_type": "code",
   "execution_count": 45,
   "metadata": {},
   "outputs": [
    {
     "name": "stdout",
     "output_type": "stream",
     "text": [
      "-----------------\n",
      "Train Mean Squarred Error: 21.94564885039256\n",
      "Test Mean Squarred Error: 17.339202333255248\n",
      "------------------\n",
      "-----------------\n",
      "Train Mean Squarred Error: 22.224956351570743\n",
      "Test Mean Squarred Error: 15.404112947017044\n",
      "------------------\n",
      "-----------------\n",
      "Train Mean Squarred Error: 20.59440447805838\n",
      "Test Mean Squarred Error: 32.34692773809492\n",
      "------------------\n",
      "-----------------\n",
      "Train Mean Squarred Error: 22.462374968832876\n",
      "Test Mean Squarred Error: 17.243513675227454\n",
      "------------------\n",
      "-----------------\n",
      "Train Mean Squarred Error: 22.79375748353835\n",
      "Test Mean Squarred Error: 15.9921999344497\n",
      "------------------\n",
      "-----------------\n",
      "Train Mean Squarred Error: 21.068353858764354\n",
      "Test Mean Squarred Error: 25.43008767254315\n",
      "------------------\n",
      "-----------------\n",
      "Train Mean Squarred Error: 21.70840609800221\n",
      "Test Mean Squarred Error: 21.977399329826156\n",
      "------------------\n",
      "-----------------\n",
      "Train Mean Squarred Error: 21.043836067489337\n",
      "Test Mean Squarred Error: 24.461221000960347\n",
      "------------------\n",
      "-----------------\n",
      "Train Mean Squarred Error: 20.908488071755706\n",
      "Test Mean Squarred Error: 25.10100445557496\n",
      "------------------\n",
      "-----------------\n",
      "Train Mean Squarred Error: 21.11259954147953\n",
      "Test Mean Squarred Error: 24.300950920909585\n",
      "------------------\n",
      "-----------------\n",
      "Train Mean Squarred Error: 21.320471615999384\n",
      "Test Mean Squarred Error: 24.17540170760547\n",
      "------------------\n",
      "-----------------\n",
      "Train Mean Squarred Error: 21.88955257734295\n",
      "Test Mean Squarred Error: 22.555324356823135\n",
      "------------------\n",
      "-----------------\n",
      "Train Mean Squarred Error: 21.418496097497965\n",
      "Test Mean Squarred Error: 22.5841808232397\n",
      "------------------\n",
      "-----------------\n",
      "Train Mean Squarred Error: 24.24190520175995\n",
      "Test Mean Squarred Error: 17.670236912765194\n",
      "------------------\n",
      "-----------------\n",
      "Train Mean Squarred Error: 19.913707994466005\n",
      "Test Mean Squarred Error: 24.962659228463828\n",
      "------------------\n",
      "-----------------\n",
      "Train Mean Squarred Error: 24.70475666974907\n",
      "Test Mean Squarred Error: 18.45591523479459\n",
      "------------------\n",
      "-----------------\n",
      "Train Mean Squarred Error: 22.746289332619074\n",
      "Test Mean Squarred Error: 20.849350699537887\n",
      "------------------\n",
      "-----------------\n",
      "Train Mean Squarred Error: 22.054269581206754\n",
      "Test Mean Squarred Error: 21.54195713094867\n",
      "------------------\n",
      "-----------------\n",
      "Train Mean Squarred Error: 17.740118202707002\n",
      "Test Mean Squarred Error: 26.657277319760404\n",
      "------------------\n",
      "-----------------\n",
      "Train Mean Squarred Error: 24.41704083019761\n",
      "Test Mean Squarred Error: 19.6788613863076\n",
      "------------------\n",
      "-----------------\n",
      "Train Mean Squarred Error: 22.886109634597254\n",
      "Test Mean Squarred Error: 21.020307205149003\n",
      "------------------\n",
      "-----------------\n",
      "Train Mean Squarred Error: 19.773011357128315\n",
      "Test Mean Squarred Error: 23.648605056554317\n",
      "------------------\n",
      "-----------------\n",
      "Train Mean Squarred Error: 16.804858042948887\n",
      "Test Mean Squarred Error: 25.836566992840034\n",
      "------------------\n",
      "-----------------\n",
      "Train Mean Squarred Error: 22.767852111649866\n",
      "Test Mean Squarred Error: 22.310425968049426\n",
      "------------------\n",
      "-----------------\n",
      "Train Mean Squarred Error: 22.402825700019758\n",
      "Test Mean Squarred Error: 21.85149852640128\n",
      "------------------\n",
      "-----------------\n",
      "Train Mean Squarred Error: 21.66122296417136\n",
      "Test Mean Squarred Error: 23.215493643002755\n",
      "------------------\n",
      "-----------------\n",
      "Train Mean Squarred Error: 19.064556217009514\n",
      "Test Mean Squarred Error: 25.914039487860283\n",
      "------------------\n",
      "-----------------\n",
      "Train Mean Squarred Error: 19.79333835381633\n",
      "Test Mean Squarred Error: 24.860719198947773\n",
      "------------------\n",
      "-----------------\n",
      "Train Mean Squarred Error: 17.071748029056778\n",
      "Test Mean Squarred Error: 25.99667270472722\n",
      "------------------\n",
      "-----------------\n",
      "Train Mean Squarred Error: 23.914319609235758\n",
      "Test Mean Squarred Error: 21.843878250624346\n",
      "------------------\n",
      "-----------------\n",
      "Train Mean Squarred Error: 30.246174682831626\n",
      "Test Mean Squarred Error: 21.533485930147148\n",
      "------------------\n",
      "-----------------\n",
      "Train Mean Squarred Error: 14.319605482602169\n",
      "Test Mean Squarred Error: 27.187848877584322\n",
      "------------------\n",
      "-----------------\n",
      "Train Mean Squarred Error: 16.570162762021575\n",
      "Test Mean Squarred Error: 23.816054497392017\n",
      "------------------\n",
      "-----------------\n",
      "Train Mean Squarred Error: 22.663320405890918\n",
      "Test Mean Squarred Error: 23.037664095400928\n",
      "------------------\n",
      "-----------------\n",
      "Train Mean Squarred Error: 10.058373629298341\n",
      "Test Mean Squarred Error: 31.84607807364394\n",
      "------------------\n",
      "-----------------\n",
      "Train Mean Squarred Error: 10.193952202597428\n",
      "Test Mean Squarred Error: 33.60371645345593\n",
      "------------------\n"
     ]
    },
    {
     "data": {
      "image/png": "[encoded data removed]",
      "text/plain": [
       "<Figure size 720x432 with 1 Axes>"
      ]
     },
     "metadata": {
      "needs_background": "light"
     },
     "output_type": "display_data"
    }
   ],
   "source": [
    "test_size = .05\n",
    "train_err = []\n",
    "test_err = []\n",
    "x = []\n",
    "while test_size <= .95:\n",
    "    \n",
    "    X_train, X_test, y_train, y_test = train_test_split(X, y, test_size = test_size)\n",
    "    linreg = LinearRegression()\n",
    "    linreg.fit(X_train, y_train)\n",
    "    \n",
    "    y_hat_train = linreg.predict(X_train)\n",
    "    y_hat_test = linreg.predict(X_test)\n",
    "    \n",
    "    train_mse = mean_squared_error(y_train, y_hat_train)\n",
    "    test_mse = mean_squared_error(y_test, y_hat_test)\n",
    "    \n",
    "    train_err.append(train_mse)\n",
    "    test_err.append(test_mse)\n",
    "    print('-----------------')\n",
    "    print('Train Mean Squarred Error:', train_mse)\n",
    "    print('Test Mean Squarred Error:', test_mse)\n",
    "    print('------------------')\n",
    "    x.append(test_size*100)\n",
    "    \n",
    "    test_size += .025\n",
    "plt.figure(figsize =(10, 6))    \n",
    "plt.scatter(x, train_err, label='Training Error')\n",
    "plt.scatter(x, test_err, label='Testing Error')\n",
    "plt.legend(loc=2)\n",
    "plt.xlabel('Test Size')\n",
    "plt.ylabel('Error (MSE)')\n",
    "plt.show()"
   ]
  },
  {
   "cell_type": "markdown",
   "metadata": {},
   "source": [
    "# Evaluating the effect of train-test split size: extension\n",
    "\n",
    "Repeat the previous example, but for each train-test split size, generate 100 iterations of models/errors and save the average train/test error. This will help account for any particularly good/bad models that might have resulted from poor/good splits in the data. "
   ]
  },
  {
   "cell_type": "code",
   "execution_count": 46,
   "metadata": {},
   "outputs": [
    {
     "data": {
      "image/png": "[encoded data removed]",
      "text/plain": [
       "<Figure size 720x432 with 1 Axes>"
      ]
     },
     "metadata": {
      "needs_background": "light"
     },
     "output_type": "display_data"
    }
   ],
   "source": [
    "test_size = .05\n",
    "train_err = []\n",
    "test_err = []\n",
    "x = []\n",
    "while test_size <= .95:\n",
    "    \n",
    "    temp_train_err = []\n",
    "    temp_test_err = []\n",
    "    \n",
    "    for i in range(100):\n",
    "        \n",
    "        X_train, X_test, y_train, y_test = train_test_split(X, y, test_size = test_size)\n",
    "        linreg = LinearRegression()\n",
    "        linreg.fit(X_train, y_train)\n",
    "\n",
    "        y_hat_train = linreg.predict(X_train)\n",
    "        y_hat_test = linreg.predict(X_test)\n",
    "\n",
    "        train_mse = mean_squared_error(y_train, y_hat_train)\n",
    "        test_mse = mean_squared_error(y_test, y_hat_test)\n",
    "\n",
    "        temp_train_err.append(mean_squared_error(y_train, y_hat_train))\n",
    "        temp_test_err.append(mean_squared_error(y_test, y_hat_test))\n",
    "\n",
    "    train_err.append(np.mean(temp_train_err))\n",
    "    test_err.append(np.mean(temp_test_err))\n",
    "    #     print('-----------------')\n",
    "    #     print('Train Mean Squarred Error:', train_mse)\n",
    "    #     print('Test Mean Squarred Error:', test_mse)\n",
    "    #     print('------------------')\n",
    "    x.append(test_size*100)\n",
    "    \n",
    "    test_size += .025\n",
    "    \n",
    "plt.figure(figsize =(10, 6))    \n",
    "plt.scatter(x, train_err, label='Training Error')\n",
    "plt.scatter(x, test_err, label='Testing Error')\n",
    "plt.legend(loc=2)\n",
    "plt.xlabel('Test Size')\n",
    "plt.ylabel('Error (MSE)')\n",
    "plt.show()"
   ]
  },
  {
   "cell_type": "markdown",
   "metadata": {},
   "source": [
    "What's happening here? evaluate your result!"
   ]
  },
  {
   "cell_type": "markdown",
   "metadata": {},
   "source": [
    "##  Summary "
   ]
  },
  {
   "cell_type": "markdown",
   "metadata": {},
   "source": [
    "Congratulations! You now practiced your knowledge on MSE and on using train-test-split."
   ]
  }
 ],
 "metadata": {
  "kernelspec": {
   "display_name": "Python 3",
   "language": "python",
   "name": "python3"
  },
  "language_info": {
   "codemirror_mode": {
    "name": "ipython",
    "version": 3
   },
   "file_extension": ".py",
   "mimetype": "text/x-python",
   "name": "python",
   "nbconvert_exporter": "python",
   "pygments_lexer": "ipython3",
   "version": "3.6.6"
  }
 },
 "nbformat": 4,
 "nbformat_minor": 2
}
